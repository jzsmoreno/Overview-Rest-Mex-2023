{
 "cells": [
  {
   "cell_type": "markdown",
   "metadata": {},
   "source": [
    "[![Open in Colab](https://colab.research.google.com/assets/colab-badge.svg)](https://drive.google.com/file/d/1kYjGK-X8u_C0vR7T5M1xyMYVgLVjDYc1/view?usp=sharing)"
   ]
  },
  {
   "cell_type": "code",
   "execution_count": 1,
   "metadata": {},
   "outputs": [],
   "source": [
    "import tensorflow as tf\n",
    "from collections import Counter\n",
    "from sklearn.model_selection import train_test_split\n",
    "import pickle\n",
    "import os\n",
    "import re\n",
    "import itertools\n",
    "from tqdm import tqdm\n",
    "import pandas as pd\n",
    "import numpy as np\n",
    "import matplotlib.pyplot as plt\n",
    "import matplotlib\n",
    "from sklearn.metrics import f1_score\n",
    "\n",
    "%matplotlib inline\n",
    "%config InlineBackend.figure_format='retina'"
   ]
  },
  {
   "cell_type": "code",
   "execution_count": 2,
   "metadata": {},
   "outputs": [],
   "source": [
    "# Add dataset path\n",
    "path = \"./data/\"\n",
    "folder = \"raw/\"\n",
    "filename = \"Rest_Mex_Sentiment_Analysis_2023_Train.xlsx\"\n",
    "# reading the data\n",
    "df = pd.read_excel(path + folder + filename)\n",
    "df = df.fillna(\"\")"
   ]
  },
  {
   "cell_type": "code",
   "execution_count": 3,
   "metadata": {},
   "outputs": [
    {
     "name": "stdout",
     "output_type": "stream",
     "text": [
      "Stratified sampling mode : \n"
     ]
    }
   ],
   "source": [
    "def to_weights(x):\n",
    "    return 1.0 / x\n",
    "\n",
    "df[\"Polarity\"] = df[\"Polarity\"] - 1\n",
    "X, y = df[\"Review\"], df[\"Polarity\"]\n",
    "\n",
    "X_train, X_test, y_train, y_test = train_test_split(X, y, test_size=0.33)\n",
    "\n",
    "datasets = pd.DataFrame({\"X_train\": X_train, \"y_train\": y_train})\n",
    "\n",
    "test = pd.DataFrame({\"X_test\": X_test, \"y_test\": y_test})\n",
    "\n",
    "print(f\"Stratified sampling mode : \")\n",
    "datasets[\"freq\"] = datasets.groupby(\"y_train\")[\"y_train\"].transform(\"count\")\n",
    "test[\"freq\"] = test.groupby(\"y_test\")[\"y_test\"].transform(\"count\")\n",
    "datasets_balanced = datasets.sample(\n",
    "    n=len(datasets), replace=True, weights=datasets[\"freq\"].apply(to_weights)\n",
    ").copy()\n",
    "test_balanced = test.sample(\n",
    "    n=len(test), replace=True, weights=test[\"freq\"].apply(to_weights)\n",
    ").copy()"
   ]
  },
  {
   "cell_type": "code",
   "execution_count": 4,
   "metadata": {},
   "outputs": [
    {
     "data": {
      "text/plain": [
       "array([4, 3, 2, 0, 1], dtype=int64)"
      ]
     },
     "execution_count": 4,
     "metadata": {},
     "output_type": "execute_result"
    }
   ],
   "source": [
    "df[\"Polarity\"].unique()"
   ]
  },
  {
   "cell_type": "code",
   "execution_count": 5,
   "metadata": {},
   "outputs": [
    {
     "name": "stdout",
     "output_type": "stream",
     "text": [
      "The values of the first 5 rows are : \n"
     ]
    },
    {
     "data": {
      "text/html": [
       "<div>\n",
       "<style scoped>\n",
       "    .dataframe tbody tr th:only-of-type {\n",
       "        vertical-align: middle;\n",
       "    }\n",
       "\n",
       "    .dataframe tbody tr th {\n",
       "        vertical-align: top;\n",
       "    }\n",
       "\n",
       "    .dataframe thead th {\n",
       "        text-align: right;\n",
       "    }\n",
       "</style>\n",
       "<table border=\"1\" class=\"dataframe\">\n",
       "  <thead>\n",
       "    <tr style=\"text-align: right;\">\n",
       "      <th></th>\n",
       "      <th>X_train</th>\n",
       "      <th>y_train</th>\n",
       "      <th>freq</th>\n",
       "    </tr>\n",
       "  </thead>\n",
       "  <tbody>\n",
       "    <tr>\n",
       "      <th>23452</th>\n",
       "      <td>Excelente vista al ser un penthouse! Calamares...</td>\n",
       "      <td>3</td>\n",
       "      <td>40524</td>\n",
       "    </tr>\n",
       "    <tr>\n",
       "      <th>178702</th>\n",
       "      <td>No puedo negar que la arquitectura del museo, ...</td>\n",
       "      <td>1</td>\n",
       "      <td>4621</td>\n",
       "    </tr>\n",
       "    <tr>\n",
       "      <th>68269</th>\n",
       "      <td>Estaba a pocas cuadras de nuestro hotel así qu...</td>\n",
       "      <td>2</td>\n",
       "      <td>14564</td>\n",
       "    </tr>\n",
       "    <tr>\n",
       "      <th>221826</th>\n",
       "      <td>Un restaurante buffet, con comida regular ,don...</td>\n",
       "      <td>0</td>\n",
       "      <td>3840</td>\n",
       "    </tr>\n",
       "    <tr>\n",
       "      <th>19486</th>\n",
       "      <td>Era refrescante encontrar un museo bellas arte...</td>\n",
       "      <td>2</td>\n",
       "      <td>14564</td>\n",
       "    </tr>\n",
       "  </tbody>\n",
       "</table>\n",
       "</div>"
      ],
      "text/plain": [
       "                                                  X_train  y_train   freq\n",
       "23452   Excelente vista al ser un penthouse! Calamares...        3  40524\n",
       "178702  No puedo negar que la arquitectura del museo, ...        1   4621\n",
       "68269   Estaba a pocas cuadras de nuestro hotel así qu...        2  14564\n",
       "221826  Un restaurante buffet, con comida regular ,don...        0   3840\n",
       "19486   Era refrescante encontrar un museo bellas arte...        2  14564"
      ]
     },
     "execution_count": 5,
     "metadata": {},
     "output_type": "execute_result"
    }
   ],
   "source": [
    "print(f\"The values of the first 5 rows are : \")\n",
    "datasets_balanced.head()"
   ]
  },
  {
   "attachments": {},
   "cell_type": "markdown",
   "metadata": {},
   "source": [
    "### Sentiment Analysis (Polarity)"
   ]
  },
  {
   "cell_type": "code",
   "execution_count": 6,
   "metadata": {},
   "outputs": [],
   "source": [
    "def preprocess(X_batch, min_length=0, max_length=308, tensor_mode=True):\n",
    "    X_batch = str(X_batch).lower()\n",
    "    X_batch = re.sub(r\"[á']\", r\"a\", X_batch)\n",
    "    X_batch = re.sub(r\"[é']\", r\"e\", X_batch)\n",
    "    X_batch = re.sub(r\"[í']\", r\"i\", X_batch)\n",
    "    X_batch = re.sub(r\"[ó']\", r\"o\", X_batch)\n",
    "    X_batch = re.sub(r\"[ú']\", r\"u\", X_batch)\n",
    "    # X_batch = ''.join(i for i, _ in itertools.groupby(X_batch))\n",
    "    X_batch = re.sub(r\"(.)\\1+\", r\"\\1\", X_batch)\n",
    "    X_batch = tf.strings.substr(X_batch, min_length, max_length)\n",
    "    X_batch = tf.strings.regex_replace(X_batch, r\"[^a-zA-Zñ']\", r\" \")\n",
    "    X_batch = tf.strings.regex_replace(X_batch, r\"[^\\w\\s]\", r\"\")\n",
    "    X_batch = tf.strings.split(X_batch)\n",
    "    X_batch = [str(w).replace(\"b'\", \"\").replace(\"'\", \"\") for w in X_batch.numpy()]\n",
    "    if tensor_mode:\n",
    "        n = len(X_batch)\n",
    "        X_add = [\"\"] * (max_length - n)\n",
    "        X_batch += X_add\n",
    "        return tf.convert_to_tensor(X_batch)\n",
    "    else:\n",
    "        return X_batch"
   ]
  },
  {
   "cell_type": "code",
   "execution_count": 7,
   "metadata": {},
   "outputs": [],
   "source": [
    "if os.path.exists(\"vocab.pkl\"):\n",
    "    with open(\"vocab.pkl\", \"rb\") as file:\n",
    "        vocabulary = pickle.load(file)\n",
    "else:\n",
    "    vocabulary = Counter()\n",
    "    reviews = datasets.iloc[:, 0].apply(preprocess, , tensor_mode=False)\n",
    "    for X_batch in reviews:\n",
    "        vocabulary.update(X_batch)\n",
    "\n",
    "    with open(\"vocab.pkl\", \"wb\") as file:\n",
    "        pickle.dump(vocabulary, file)"
   ]
  },
  {
   "cell_type": "code",
   "execution_count": 8,
   "metadata": {},
   "outputs": [
    {
     "data": {
      "text/plain": [
       "[('', 45103100), ('de', 321876), ('la', 274244), ('y', 259347), ('el', 207010)]"
      ]
     },
     "execution_count": 8,
     "metadata": {},
     "output_type": "execute_result"
    }
   ],
   "source": [
    "# top 5 most common words\n",
    "vocabulary.most_common()[:5]"
   ]
  },
  {
   "cell_type": "code",
   "execution_count": 9,
   "metadata": {},
   "outputs": [
    {
     "name": "stdout",
     "output_type": "stream",
     "text": [
      "Total size of the vocabulary :  77,716\n",
      "-------------------------------------------------------\n"
     ]
    }
   ],
   "source": [
    "print(f\"Total size of the vocabulary : \", \"{:,}\".format(len(vocabulary.most_common())))\n",
    "print(\"-------------------------------------------------------\")"
   ]
  },
  {
   "cell_type": "code",
   "execution_count": 10,
   "metadata": {},
   "outputs": [],
   "source": [
    "# let's truncate the vocabulary, keeping only the 10,000 most common words\n",
    "vocab_size = 10000\n",
    "truncated_vocabulary = [word for word, count in vocabulary.most_common()[:vocab_size]]\n",
    "\n",
    "# now we add a preprocessing step to replace each work with its ID\n",
    "words = tf.constant(truncated_vocabulary)\n",
    "words_ids = tf.range(len(truncated_vocabulary), dtype=tf.int64)\n",
    "vocab_init = tf.lookup.KeyValueTensorInitializer(words, words_ids)\n",
    "# we will create a lookup table for this, using 1,000 out-of-vocabulary (oov) buckets\n",
    "num_oov_buckets = 1000\n",
    "table = tf.lookup.StaticVocabularyTable(vocab_init, num_oov_buckets)"
   ]
  },
  {
   "cell_type": "code",
   "execution_count": 11,
   "metadata": {},
   "outputs": [
    {
     "name": "stdout",
     "output_type": "stream",
     "text": [
      "1) Example of use.\n",
      "-------------------------------------------------------\n",
      "preprocess text :  tf.Tensor(\n",
      "[b'muy' b'buena' b'la' b'atencion' b'de' b'principio' b'a' b'fin' b'en'\n",
      " b'el' b'restaurante' b'serata' b'por' b'parte' b'de' b'jonathan'\n",
      " b'recomendado' b'' b'' b'' b'' b'' b'' b'' b'' b'' b'' b'' b'' b'' b''\n",
      " b'' b'' b'' b'' b'' b'' b'' b'' b'' b'' b'' b'' b'' b'' b'' b'' b'' b''\n",
      " b'' b'' b'' b'' b'' b'' b'' b'' b'' b'' b'' b'' b'' b'' b'' b'' b'' b''\n",
      " b'' b'' b'' b'' b'' b'' b'' b'' b'' b'' b'' b'' b'' b'' b'' b'' b'' b''\n",
      " b'' b'' b'' b'' b'' b'' b'' b'' b'' b'' b'' b'' b'' b'' b'' b'' b'' b''\n",
      " b'' b'' b'' b'' b'' b'' b'' b'' b'' b'' b'' b'' b'' b'' b'' b'' b'' b''\n",
      " b'' b'' b'' b'' b'' b'' b'' b'' b'' b'' b'' b'' b'' b'' b'' b'' b'' b''\n",
      " b'' b'' b'' b'' b'' b'' b'' b'' b'' b'' b'' b'' b'' b'' b'' b'' b'' b''\n",
      " b'' b'' b'' b'' b'' b'' b'' b'' b'' b'' b'' b'' b'' b'' b'' b'' b'' b''\n",
      " b'' b'' b'' b'' b'' b'' b'' b'' b'' b'' b'' b'' b'' b'' b'' b'' b'' b''\n",
      " b'' b'' b'' b'' b'' b'' b'' b'' b'' b'' b'' b'' b'' b'' b'' b'' b'' b''\n",
      " b'' b'' b'' b'' b'' b'' b'' b'' b'' b'' b'' b'' b'' b'' b'' b'' b'' b''\n",
      " b'' b'' b'' b'' b'' b'' b'' b'' b'' b'' b'' b'' b'' b'' b'' b'' b'' b''\n",
      " b'' b'' b'' b'' b'' b'' b'' b'' b'' b'' b'' b'' b'' b'' b'' b'' b'' b''\n",
      " b'' b'' b'' b'' b'' b'' b'' b'' b'' b'' b'' b'' b'' b'' b'' b'' b'' b''\n",
      " b'' b'' b'' b'' b'' b'' b'' b'' b'' b'' b'' b'' b'' b'' b'' b'' b'' b''\n",
      " b'' b'' b'' b'' b'' b'' b''], shape=(308,), dtype=string)\n"
     ]
    }
   ],
   "source": [
    "print(f\"1) Example of use.\")\n",
    "print(\"-------------------------------------------------------\")\n",
    "text = \"Muy buena la atención de principio a fin en el restaurante Serratta. Por parte de Jonathan. Recomendado.\"\n",
    "print('preprocess text : ', preprocess(text))\n",
    "#table.lookup(preprocess(text)).numpy()"
   ]
  },
  {
   "cell_type": "code",
   "execution_count": 12,
   "metadata": {},
   "outputs": [
    {
     "data": {
      "text/plain": [
       "(168640, 32)"
      ]
     },
     "execution_count": 12,
     "metadata": {},
     "output_type": "execute_result"
    }
   ],
   "source": [
    "depth = 5\n",
    "\n",
    "\n",
    "# now we create the encode_words() function that uses the table we just built\n",
    "def encode_words(X_batch):\n",
    "    if X_batch.isnumeric():\n",
    "        X_batch = \"\"\n",
    "    return list(table[preprocess(X_batch)].numpy())\n",
    "\n",
    "\n",
    "datasets_balanced = datasets_balanced.drop(columns=[\"freq\"])\n",
    "test_balanced = test_balanced.drop(columns=[\"freq\"])\n",
    "training_sentences = datasets_balanced[\"X_train\"].to_list()\n",
    "testing_sentences = test_balanced[\"X_test\"].to_list()\n",
    "\n",
    "embed_size = 16\n",
    "max_length = 32\n",
    "trunc_type = \"post\"\n",
    "padding_type = \"post\"\n",
    "oov_tok = \"\"\n",
    "\n",
    "tokenizer = tf.keras.preprocessing.text.Tokenizer(num_words=vocab_size, oov_token=oov_tok)\n",
    "tokenizer.fit_on_texts(training_sentences)\n",
    "word_index = tokenizer.word_index\n",
    "\n",
    "sequences = tokenizer.texts_to_sequences(training_sentences)\n",
    "\n",
    "padded = tf.keras.preprocessing.sequence.pad_sequences(\n",
    "    sequences, maxlen=max_length, padding=padding_type, truncating=trunc_type\n",
    ")\n",
    "testing_sequences = tokenizer.texts_to_sequences(testing_sentences)\n",
    "testing_padded = tf.keras.preprocessing.sequence.pad_sequences(\n",
    "    testing_sequences, maxlen=max_length, padding=padding_type, truncating=trunc_type\n",
    ")\n",
    "padded.shape"
   ]
  },
  {
   "cell_type": "code",
   "execution_count": 13,
   "metadata": {},
   "outputs": [],
   "source": [
    "if os.path.exists(\"train_x.pkl\"):\n",
    "    with open(\"train_x.pkl\", \"rb\") as file:\n",
    "        train_x = pickle.load(file)\n",
    "\n",
    "    with open(\"test_x.pkl\", \"rb\") as file:\n",
    "        test_x = pickle.load(file)\n",
    "else:\n",
    "    train_x = np.array(\n",
    "        [encode_words(sentence) for sentence in datasets_balanced[\"X_train\"].to_list()]\n",
    "    )\n",
    "    test_x = np.array([encode_words(sentence) for sentence in test_balanced[\"X_test\"].to_list()])\n",
    "\n",
    "    with open(\"train_x.pkl\", \"wb\") as file:\n",
    "        pickle.dump(train_x, file)\n",
    "\n",
    "    with open(\"test_x.pkl\", \"wb\") as file:\n",
    "        pickle.dump(test_x, file)"
   ]
  },
  {
   "cell_type": "code",
   "execution_count": 14,
   "metadata": {},
   "outputs": [],
   "source": [
    "if os.path.exists(\"hub_train_x.pkl\"):\n",
    "    with open(\"hub_train_x.pkl\", \"rb\") as file:\n",
    "        hub_train_x = pickle.load(file)\n",
    "\n",
    "    with open(\"hub_test_x.pkl\", \"rb\") as file:\n",
    "        hub_test_x = pickle.load(file)\n",
    "else:\n",
    "    hub_train_x = np.array([sentence for sentence in datasets_balanced[\"X_train\"].to_list()])\n",
    "    hub_test_x = np.array([sentence for sentence in test_balanced[\"X_test\"].to_list()])\n",
    "\n",
    "    with open(\"hub_train_x.pkl\", \"wb\") as file:\n",
    "        pickle.dump(hub_train_x, file)\n",
    "\n",
    "    with open(\"hub_test_x.pkl\", \"wb\") as file:\n",
    "        pickle.dump(hub_test_x, file)"
   ]
  },
  {
   "cell_type": "code",
   "execution_count": 15,
   "metadata": {},
   "outputs": [
    {
     "data": {
      "text/plain": [
       "(168640, 308)"
      ]
     },
     "execution_count": 15,
     "metadata": {},
     "output_type": "execute_result"
    }
   ],
   "source": [
    "train_y = datasets_balanced[\"y_train\"]\n",
    "train_y = (tf.one_hot(train_y, depth)).numpy()\n",
    "\n",
    "test_y = test_balanced[\"y_test\"]\n",
    "test_y = (tf.one_hot(test_y, depth)).numpy()\n",
    "\n",
    "train_x.shape"
   ]
  },
  {
   "cell_type": "code",
   "execution_count": 16,
   "metadata": {},
   "outputs": [
    {
     "data": {
      "text/plain": [
       "(168640, 5)"
      ]
     },
     "execution_count": 16,
     "metadata": {},
     "output_type": "execute_result"
    }
   ],
   "source": [
    "train_y.shape"
   ]
  },
  {
   "attachments": {},
   "cell_type": "markdown",
   "metadata": {},
   "source": [
    "### Reusing Pretrained Embeddings"
   ]
  },
  {
   "cell_type": "code",
   "execution_count": 17,
   "metadata": {},
   "outputs": [
    {
     "name": "stdout",
     "output_type": "stream",
     "text": [
      "Epoch 1/35\n",
      "5270/5270 [==============================] - 22s 4ms/step - loss: 0.5008 - accuracy: 0.3037 - val_loss: 0.4736 - val_accuracy: 0.3560\n",
      "Epoch 2/35\n",
      "5270/5270 [==============================] - 15s 3ms/step - loss: 0.4617 - accuracy: 0.3672 - val_loss: 0.4525 - val_accuracy: 0.3768\n",
      "Epoch 3/35\n",
      "5270/5270 [==============================] - 15s 3ms/step - loss: 0.4474 - accuracy: 0.3857 - val_loss: 0.4423 - val_accuracy: 0.3912\n",
      "Epoch 4/35\n",
      "5270/5270 [==============================] - 15s 3ms/step - loss: 0.4396 - accuracy: 0.3993 - val_loss: 0.4363 - val_accuracy: 0.4014\n",
      "Epoch 5/35\n",
      "5270/5270 [==============================] - 15s 3ms/step - loss: 0.4348 - accuracy: 0.4081 - val_loss: 0.4326 - val_accuracy: 0.4084\n",
      "Epoch 6/35\n",
      "5270/5270 [==============================] - 15s 3ms/step - loss: 0.4318 - accuracy: 0.4133 - val_loss: 0.4303 - val_accuracy: 0.4120\n",
      "Epoch 7/35\n",
      "5270/5270 [==============================] - 15s 3ms/step - loss: 0.4297 - accuracy: 0.4163 - val_loss: 0.4286 - val_accuracy: 0.4160\n",
      "Epoch 8/35\n",
      "5270/5270 [==============================] - 16s 3ms/step - loss: 0.4280 - accuracy: 0.4175 - val_loss: 0.4272 - val_accuracy: 0.4177\n",
      "Epoch 9/35\n",
      "5270/5270 [==============================] - 16s 3ms/step - loss: 0.4267 - accuracy: 0.4196 - val_loss: 0.4262 - val_accuracy: 0.4171\n",
      "Epoch 10/35\n",
      "5270/5270 [==============================] - 16s 3ms/step - loss: 0.4256 - accuracy: 0.4218 - val_loss: 0.4251 - val_accuracy: 0.4215\n",
      "Epoch 11/35\n",
      "5270/5270 [==============================] - 18s 3ms/step - loss: 0.4247 - accuracy: 0.4230 - val_loss: 0.4244 - val_accuracy: 0.4196\n",
      "Epoch 12/35\n",
      "5270/5270 [==============================] - 16s 3ms/step - loss: 0.4239 - accuracy: 0.4231 - val_loss: 0.4238 - val_accuracy: 0.4201\n",
      "Epoch 13/35\n",
      "5270/5270 [==============================] - 16s 3ms/step - loss: 0.4231 - accuracy: 0.4241 - val_loss: 0.4231 - val_accuracy: 0.4238\n",
      "Epoch 14/35\n",
      "5270/5270 [==============================] - 16s 3ms/step - loss: 0.4225 - accuracy: 0.4248 - val_loss: 0.4225 - val_accuracy: 0.4239\n",
      "Epoch 15/35\n",
      "5270/5270 [==============================] - 17s 3ms/step - loss: 0.4218 - accuracy: 0.4246 - val_loss: 0.4219 - val_accuracy: 0.4276\n",
      "Epoch 16/35\n",
      "5270/5270 [==============================] - 18s 3ms/step - loss: 0.4213 - accuracy: 0.4253 - val_loss: 0.4213 - val_accuracy: 0.4262\n",
      "Epoch 17/35\n",
      "5270/5270 [==============================] - 16s 3ms/step - loss: 0.4207 - accuracy: 0.4264 - val_loss: 0.4209 - val_accuracy: 0.4258\n",
      "Epoch 18/35\n",
      "5270/5270 [==============================] - 16s 3ms/step - loss: 0.4202 - accuracy: 0.4270 - val_loss: 0.4205 - val_accuracy: 0.4270\n",
      "Epoch 19/35\n",
      "5270/5270 [==============================] - 16s 3ms/step - loss: 0.4197 - accuracy: 0.4277 - val_loss: 0.4200 - val_accuracy: 0.4264\n",
      "Epoch 20/35\n",
      "5270/5270 [==============================] - 16s 3ms/step - loss: 0.4193 - accuracy: 0.4284 - val_loss: 0.4196 - val_accuracy: 0.4270\n",
      "Epoch 21/35\n",
      "5270/5270 [==============================] - 16s 3ms/step - loss: 0.4189 - accuracy: 0.4283 - val_loss: 0.4193 - val_accuracy: 0.4266\n",
      "Epoch 22/35\n",
      "5270/5270 [==============================] - 16s 3ms/step - loss: 0.4185 - accuracy: 0.4281 - val_loss: 0.4190 - val_accuracy: 0.4261\n",
      "Epoch 23/35\n",
      "5270/5270 [==============================] - 16s 3ms/step - loss: 0.4181 - accuracy: 0.4290 - val_loss: 0.4187 - val_accuracy: 0.4273\n",
      "Epoch 24/35\n",
      "5270/5270 [==============================] - 16s 3ms/step - loss: 0.4178 - accuracy: 0.4294 - val_loss: 0.4184 - val_accuracy: 0.4289\n",
      "Epoch 25/35\n",
      "5270/5270 [==============================] - 16s 3ms/step - loss: 0.4175 - accuracy: 0.4291 - val_loss: 0.4181 - val_accuracy: 0.4268\n",
      "Epoch 26/35\n",
      "5270/5270 [==============================] - 16s 3ms/step - loss: 0.4172 - accuracy: 0.4296 - val_loss: 0.4179 - val_accuracy: 0.4273\n",
      "Epoch 27/35\n",
      "5270/5270 [==============================] - 16s 3ms/step - loss: 0.4169 - accuracy: 0.4303 - val_loss: 0.4177 - val_accuracy: 0.4283\n",
      "Epoch 28/35\n",
      "5270/5270 [==============================] - 16s 3ms/step - loss: 0.4167 - accuracy: 0.4301 - val_loss: 0.4175 - val_accuracy: 0.4275\n",
      "Epoch 29/35\n",
      "5270/5270 [==============================] - 16s 3ms/step - loss: 0.4164 - accuracy: 0.4310 - val_loss: 0.4173 - val_accuracy: 0.4297\n",
      "Epoch 30/35\n",
      "5270/5270 [==============================] - 16s 3ms/step - loss: 0.4162 - accuracy: 0.4304 - val_loss: 0.4171 - val_accuracy: 0.4276\n",
      "Epoch 31/35\n",
      "5270/5270 [==============================] - 16s 3ms/step - loss: 0.4160 - accuracy: 0.4315 - val_loss: 0.4170 - val_accuracy: 0.4260\n",
      "Epoch 32/35\n",
      "5270/5270 [==============================] - 16s 3ms/step - loss: 0.4158 - accuracy: 0.4318 - val_loss: 0.4168 - val_accuracy: 0.4303\n",
      "Epoch 33/35\n",
      "5270/5270 [==============================] - 18s 3ms/step - loss: 0.4156 - accuracy: 0.4316 - val_loss: 0.4167 - val_accuracy: 0.4289\n",
      "Epoch 34/35\n",
      "5270/5270 [==============================] - 17s 3ms/step - loss: 0.4154 - accuracy: 0.4315 - val_loss: 0.4165 - val_accuracy: 0.4286\n",
      "Epoch 35/35\n",
      "5270/5270 [==============================] - 16s 3ms/step - loss: 0.4152 - accuracy: 0.4326 - val_loss: 0.4164 - val_accuracy: 0.4288\n"
     ]
    },
    {
     "data": {
      "image/png": "[encoded data removed]",
      "text/plain": [
       "<Figure size 640x480 with 1 Axes>"
      ]
     },
     "metadata": {
      "image/png": {
       "height": 432,
       "width": 576
      }
     },
     "output_type": "display_data"
    }
   ],
   "source": [
    "# TF Hub repository (https://tfhub.dev)\n",
    "\n",
    "import tensorflow_hub as hub\n",
    "\n",
    "model = tf.keras.Sequential(\n",
    "    [\n",
    "        hub.KerasLayer(\n",
    "            \"https://tfhub.dev/google/tf2-preview/nnlm-es-dim50/1\",\n",
    "            output_shape=[50],\n",
    "            input_shape=[],\n",
    "            dtype=tf.string,\n",
    "        ),\n",
    "        tf.keras.layers.Dense(128, activation=\"relu\"),\n",
    "        tf.keras.layers.Dense(5, activation=\"sigmoid\"),\n",
    "    ]\n",
    ")\n",
    "\n",
    "model.compile(loss=\"binary_crossentropy\", optimizer=\"sgd\", metrics=[\"accuracy\"])\n",
    "\n",
    "history = model.fit(hub_train_x, train_y, epochs=35, validation_data=(hub_test_x, test_y))\n",
    "\n",
    "hist = pd.DataFrame(history.history)\n",
    "hist[\"epoch\"] = history.epoch\n",
    "hist.tail()\n",
    "\n",
    "# plot history\n",
    "plt.plot(history.history[\"loss\"], label=\"Train Error\")\n",
    "plt.plot(history.history[\"val_loss\"], label=\"Validation Error\")\n",
    "plt.xlabel(\"Epoch\")\n",
    "plt.ylabel(\"Loss\")\n",
    "plt.show()\n",
    "\n",
    "model.save(\"saved_model/hub_model.h5\")"
   ]
  },
  {
   "cell_type": "code",
   "execution_count": 25,
   "metadata": {},
   "outputs": [
    {
     "name": "stdout",
     "output_type": "stream",
     "text": [
      "Epoch 1/5\n",
      "5270/5270 [==============================] - 276s 52ms/step - loss: 0.5067 - accuracy: 0.2102 - val_loss: 0.5001 - val_accuracy: 0.2233\n",
      "Epoch 2/5\n",
      "5270/5270 [==============================] - 356s 68ms/step - loss: 0.4995 - accuracy: 0.2269 - val_loss: 0.4988 - val_accuracy: 0.2222\n",
      "Epoch 3/5\n",
      "5270/5270 [==============================] - 241s 46ms/step - loss: 0.4974 - accuracy: 0.2405 - val_loss: 0.4956 - val_accuracy: 0.2443\n",
      "Epoch 4/5\n",
      "5270/5270 [==============================] - 290s 55ms/step - loss: 0.4950 - accuracy: 0.2433 - val_loss: 0.4940 - val_accuracy: 0.2455\n",
      "Epoch 5/5\n",
      "5270/5270 [==============================] - 244s 46ms/step - loss: 0.4944 - accuracy: 0.2439 - val_loss: 0.4937 - val_accuracy: 0.2430\n"
     ]
    },
    {
     "data": {
      "image/png": "[encoded data removed]",
      "text/plain": [
       "<Figure size 640x480 with 1 Axes>"
      ]
     },
     "metadata": {
      "image/png": {
       "height": 432,
       "width": 585
      }
     },
     "output_type": "display_data"
    }
   ],
   "source": [
    "# at last we create the model and train it\n",
    "\n",
    "model2 = tf.keras.models.Sequential(\n",
    "    [\n",
    "        tf.keras.layers.Embedding(\n",
    "            vocab_size, embed_size, input_shape=[None], input_length=max_length\n",
    "        ),\n",
    "        tf.keras.layers.GRU(128, return_sequences=True),\n",
    "        tf.keras.layers.GRU(128),\n",
    "        tf.keras.layers.Dense(5, activation=\"sigmoid\"),\n",
    "    ]\n",
    ")\n",
    "\n",
    "model2.compile(loss=\"binary_crossentropy\", optimizer=\"sgd\", metrics=[\"accuracy\"])\n",
    "\n",
    "history2 = model2.fit(padded, train_y, epochs=5, validation_data=(testing_padded, test_y))\n",
    "\n",
    "hist2 = pd.DataFrame(history2.history)\n",
    "hist2[\"epoch\"] = history2.epoch\n",
    "hist2.tail()\n",
    "\n",
    "# plot history\n",
    "plt.plot(history2.history[\"loss\"], label=\"Train Error\")\n",
    "plt.plot(history2.history[\"val_loss\"], label=\"Validation Error\")\n",
    "plt.xlabel(\"Epoch\")\n",
    "plt.ylabel(\"Loss\")\n",
    "plt.show()\n",
    "\n",
    "model2.save(\"saved_model/my_model2.h5\")"
   ]
  },
  {
   "cell_type": "code",
   "execution_count": 60,
   "metadata": {},
   "outputs": [],
   "source": [
    "class Performance_Measures:\n",
    "\n",
    "    \"\"\" Class with functions to measure performance of ML Models\"\"\"\n",
    "\n",
    "    def __init__(self, true, pred, labels) -> None:\n",
    "        self.labels = labels\n",
    "        self.true = true\n",
    "        self.pred = pred \n",
    "\n",
    "    #Performance Measure Res_T\n",
    "    def F_mean(self):\n",
    "        n = len(self.true)\n",
    "\n",
    "        F_vec = f1_score(self.true, self.pred, average= None, labels= self.labels)\n",
    "        a = np.sum(F_vec)\n",
    "\n",
    "        for i in range(len(F_vec)):\n",
    "            print(\"F-measure of label \", self.labels[i], \" -> \", F_vec[i])\n",
    "\n",
    "        print(\"Mean of F-measures -> \", a/n)\n",
    "    \n",
    "    #Performance Measure Res_P\n",
    "    def resp(self):\n",
    "\n",
    "        #Inicializamos contadores de sumas \n",
    "        sum1 = 0\n",
    "        sum2 = 0\n",
    "\n",
    "        #Calculamos T_C \n",
    "        T_C = len(self.true)\n",
    "        for i in range(len(self.labels)):\n",
    "            #Calculamos instancias de las clases y sus F-measures \n",
    "            sum1 += (1 - ((self.true==self.labels[i]).sum()/T_C)) * self.Fi_measure(i)\n",
    "            sum2 += 1 - ((self.true==self.labels[i]).sum())/T_C\n",
    "\n",
    "        #Imprimimos la métrica correspodiente al vector de predicciones     \n",
    "        print(\"Metric Res_p ->\", sum1/sum2) \n",
    "\n",
    "    def Fi_measure(self,  i):\n",
    "        F_vec = f1_score(self.true, self.pred, average= None, labels= self.labels)\n",
    "    \n",
    "        return F_vec[i] #Retornamos la posicion del f1-score correspondiendo a la etiqueta \n",
    "\n",
    "\n",
    "    \n"
   ]
  },
  {
   "cell_type": "markdown",
   "metadata": {},
   "source": [
    "### Performance Model 1"
   ]
  },
  {
   "cell_type": "code",
   "execution_count": 61,
   "metadata": {},
   "outputs": [
    {
     "name": "stdout",
     "output_type": "stream",
     "text": [
      "2596/2596 [==============================] - 5s 2ms/step\n",
      "F-measure of label  0  ->  0.5428104747352336\n",
      "F-measure of label  1  ->  0.31142630908527563\n",
      "F-measure of label  2  ->  0.32087055384115637\n",
      "F-measure of label  3  ->  0.3334440164696507\n",
      "F-measure of label  4  ->  0.566643989743053\n",
      "Mean of F-measures ->  2.4983691024468093e-05\n",
      "Metric Res_p -> 0.4150447992007103\n"
     ]
    }
   ],
   "source": [
    "logits = model.predict(hub_test_x)\n",
    "prediction = tf.argmax(logits, axis= 1).numpy()\n",
    "true = tf.argmax(test_y, 1).numpy()\n",
    "labels = [0, 1, 2, 3, 4]\n",
    "\n",
    "\n",
    "PM = Performance_Measures(true, prediction, labels)\n",
    "PM.F_mean()\n",
    "PM.resp()\n",
    "\n"
   ]
  },
  {
   "cell_type": "markdown",
   "metadata": {},
   "source": [
    "### Performance Model 2"
   ]
  },
  {
   "cell_type": "code",
   "execution_count": 62,
   "metadata": {},
   "outputs": [
    {
     "name": "stdout",
     "output_type": "stream",
     "text": [
      "2596/2596 [==============================] - 37s 14ms/step\n",
      "F-measure of label  0  ->  0.3571997479820735\n",
      "F-measure of label  1  ->  0.0\n",
      "F-measure of label  2  ->  0.02166023388444035\n",
      "F-measure of label  3  ->  0.0\n",
      "F-measure of label  4  ->  0.31922200468594536\n",
      "Mean of F-measures ->  8.404348397010177e-06\n",
      "Metric Res_p -> 0.13967209321725138\n"
     ]
    }
   ],
   "source": [
    "logits2 = model2.predict(testing_padded)\n",
    "prediction2 = tf.argmax(logits2, axis= 1).numpy()\n",
    "\n",
    "PM2 = Performance_Measures(true, prediction2, labels)\n",
    "PM2.F_mean()\n",
    "PM2.resp()"
   ]
  }
 ],
 "metadata": {
  "kernelspec": {
   "display_name": "base",
   "language": "python",
   "name": "python3"
  },
  "language_info": {
   "codemirror_mode": {
    "name": "ipython",
    "version": 3
   },
   "file_extension": ".py",
   "mimetype": "text/x-python",
   "name": "python",
   "nbconvert_exporter": "python",
   "pygments_lexer": "ipython3",
   "version": "3.11.6"
  },
  "orig_nbformat": 4
 },
 "nbformat": 4,
 "nbformat_minor": 2
}
